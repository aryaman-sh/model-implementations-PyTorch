{
 "cells": [
  {
   "cell_type": "markdown",
   "id": "9f3decb1",
   "metadata": {},
   "source": [
    "# YOLOv1 implementation\n",
    "    Notes: \n",
    "    * Check output shape"
   ]
  },
  {
   "cell_type": "code",
   "execution_count": 1,
   "id": "81d07287",
   "metadata": {},
   "outputs": [],
   "source": [
    "import torch\n",
    "import torch.nn as nn"
   ]
  },
  {
   "cell_type": "code",
   "execution_count": 2,
   "id": "61db00a9",
   "metadata": {},
   "outputs": [],
   "source": [
    "class Convolution(nn.Module):\n",
    "    def __init__(self, in_channels, out_channels, kernel_size, padding, stride):\n",
    "        super(Convolution, self).__init__()\n",
    "        self.conv = nn.Conv2d(in_channels=in_channels,\n",
    "                             out_channels=out_channels,\n",
    "                             kernel_size=kernel_size,\n",
    "                             padding=padding,\n",
    "                             stride=stride)\n",
    "        self.Lrelu = nn.LeakyReLU(0.1)\n",
    "        \n",
    "    def forward(self, x):\n",
    "        x = self.conv(x)\n",
    "        x = self.Lrelu(x)\n",
    "        return x"
   ]
  },
  {
   "cell_type": "code",
   "execution_count": 3,
   "id": "c6a6dde8",
   "metadata": {},
   "outputs": [],
   "source": [
    "class YOLOv1(nn.Module):\n",
    "    def __init__(self):\n",
    "        super(YOLOv1, self).__init__()\n",
    "        self.pool = nn.MaxPool2d(kernel_size=2, stride=2)\n",
    "        # Section 1\n",
    "        # Tried all paddings from 0, 3 gives correct output shape\n",
    "        self.section_1_conv = Convolution(in_channels=3, out_channels=64, kernel_size=7, padding=3, stride=2)\n",
    "        # Section 2\n",
    "        self.section_2_conv = Convolution(in_channels=64, out_channels=192, kernel_size=3, stride=1, padding='same') #not strided conv\n",
    "        # Section 3\n",
    "        self.section_3_conv = nn.ModuleList([\n",
    "            Convolution(in_channels=192, out_channels=128, kernel_size=1, stride=1, padding='same'),\n",
    "            Convolution(in_channels=128, out_channels=256, kernel_size=3, stride=1, padding='same'),\n",
    "            Convolution(in_channels=256, out_channels=256, kernel_size=1, stride=1, padding='same'),\n",
    "            Convolution(in_channels=256, out_channels=512, kernel_size=3, stride=1, padding='same')\n",
    "        ])\n",
    "        # section 4\n",
    "        self.section_4_conv_1 = nn.ModuleList([\n",
    "            Convolution(in_channels=512, out_channels=256, kernel_size=1, stride=1, padding='same'),\n",
    "            Convolution(in_channels=256, out_channels=512, kernel_size=3, stride=1, padding='same')\n",
    "        ])\n",
    "        self.section_4_conv_2 = nn.ModuleList([\n",
    "            Convolution(in_channels=512, out_channels=512, kernel_size=1, stride=1, padding='same'),\n",
    "            Convolution(in_channels=512, out_channels=1024, kernel_size=3, stride=1, padding='same')\n",
    "        ])\n",
    "        # section 5\n",
    "        self.section_5_conv_1 = nn.ModuleList([\n",
    "            Convolution(in_channels=1024, out_channels=512, kernel_size=1, stride=1, padding='same'),\n",
    "            Convolution(in_channels=512, out_channels=1024, kernel_size=3, stride=1, padding='same')\n",
    "        ])\n",
    "        self.section_5_conv_2 = nn.ModuleList([\n",
    "            Convolution(in_channels=1024, out_channels=1024, kernel_size=3, stride=1, padding='same'),\n",
    "            Convolution(in_channels=1024, out_channels=1024, kernel_size=3, stride=2, padding=1)\n",
    "        ])\n",
    "        # section 6\n",
    "        self.section_6_conv = Convolution(in_channels=1024, out_channels=1024, kernel_size=3, stride=1, padding='same')\n",
    "        # fc section\n",
    "        self.fc = nn.Sequential(\n",
    "            nn.Flatten(),\n",
    "            nn.Linear(1024*7*7, 4096),\n",
    "            nn.LeakyReLU(0.1),\n",
    "            nn.Linear(4096, 7*7*30),\n",
    "            nn.LeakyReLU(0.1)\n",
    "        )\n",
    "        \n",
    "    def forward(self, x):\n",
    "        x = self.section_1_conv(x)\n",
    "        x = self.pool(x)\n",
    "        x = self.section_2_conv(x)\n",
    "        x = self.pool(x)\n",
    "        for sec_3 in self.section_3_conv:\n",
    "            x = sec_3(x)\n",
    "        x = self.pool(x)\n",
    "        for i in range(0,4):\n",
    "            for sec_4_1 in self.section_4_conv_1:\n",
    "                x = sec_4_1(x)\n",
    "        for sec_4 in self.section_4_conv_2:\n",
    "            x = sec_4(x)\n",
    "        x = self.pool(x)\n",
    "        for i in range(0,2):\n",
    "            for sec_5_1 in self.section_5_conv_1:\n",
    "                x = sec_5_1(x)\n",
    "        for sec_5 in self.section_5_conv_2:\n",
    "            x = sec_5(x)        \n",
    "        x = self.section_6_conv(x)\n",
    "        x = self.section_6_conv(x)\n",
    "        x = self.fc(x)\n",
    "        x = torch.reshape(x, (7,7,30)) # reshape output\n",
    "        return x"
   ]
  },
  {
   "cell_type": "code",
   "execution_count": 4,
   "id": "dc34004f",
   "metadata": {},
   "outputs": [],
   "source": [
    "model = YOLOv1()"
   ]
  },
  {
   "cell_type": "code",
   "execution_count": 6,
   "id": "50c261e9",
   "metadata": {},
   "outputs": [
    {
     "data": {
      "text/plain": [
       "torch.Size([7, 7, 30])"
      ]
     },
     "execution_count": 6,
     "metadata": {},
     "output_type": "execute_result"
    }
   ],
   "source": [
    "# test\n",
    "in_tensor = torch.randn((1,3,448,448))\n",
    "y = model(in_tensor)\n",
    "y.shape"
   ]
  }
 ],
 "metadata": {
  "kernelspec": {
   "display_name": "Python 3 (ipykernel)",
   "language": "python",
   "name": "python3"
  },
  "language_info": {
   "codemirror_mode": {
    "name": "ipython",
    "version": 3
   },
   "file_extension": ".py",
   "mimetype": "text/x-python",
   "name": "python",
   "nbconvert_exporter": "python",
   "pygments_lexer": "ipython3",
   "version": "3.8.2"
  }
 },
 "nbformat": 4,
 "nbformat_minor": 5
}
