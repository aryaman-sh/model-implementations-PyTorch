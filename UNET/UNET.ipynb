{
 "cells": [
  {
   "cell_type": "markdown",
   "id": "596863a3",
   "metadata": {},
   "source": [
    "# UNET \n",
    "Hardcoded to match specifications of the original paper."
   ]
  },
  {
   "cell_type": "code",
   "execution_count": 1,
   "id": "ef81fdc5",
   "metadata": {},
   "outputs": [],
   "source": [
    "import torch\n",
    "import torch.nn as nn\n",
    "import torchvision.transforms.functional as TF"
   ]
  },
  {
   "cell_type": "code",
   "execution_count": 2,
   "id": "6b48ffb8",
   "metadata": {},
   "outputs": [],
   "source": [
    "class Section(nn.Module):\n",
    "    def __init__(self, in_channels, out_channels, kernel_size):\n",
    "        super(Section, self).__init__()\n",
    "        self.process = nn.Sequential(\n",
    "            nn.Conv2d(in_channels=in_channels, out_channels=out_channels, kernel_size=kernel_size, stride=1, padding=0),\n",
    "            nn.ReLU(inplace=True),\n",
    "            nn.Conv2d(in_channels=out_channels, out_channels=out_channels, kernel_size=kernel_size, stride=1, padding=0),\n",
    "            nn.ReLU(inplace=True)\n",
    "        )\n",
    "        \n",
    "    def forward(self, x):\n",
    "        return self.process(x)"
   ]
  },
  {
   "cell_type": "code",
   "execution_count": 3,
   "id": "40a6a424",
   "metadata": {},
   "outputs": [],
   "source": [
    "class UNET(nn.Module):\n",
    "    def __init__(self, in_channels=1, out_channels=2):\n",
    "        super(UNET, self).__init__()\n",
    "        # Contraction\n",
    "        self.pool = nn.MaxPool2d(kernel_size=2, stride=2)\n",
    "        self.down1 = Section(in_channels=in_channels, out_channels=64, kernel_size=3)\n",
    "        self.down2 = Section(in_channels=64, out_channels=128, kernel_size=3)\n",
    "        self.down3 = Section(in_channels=128, out_channels=256, kernel_size=3)\n",
    "        self.down4 = Section(in_channels=256, out_channels=512, kernel_size=3)\n",
    "        self.down5 = Section(in_channels=512, out_channels=1024, kernel_size=3)\n",
    "        # Expansion\n",
    "        self.up_conv1 = nn.ConvTranspose2d(in_channels=1024, out_channels=512, kernel_size=2, stride=2)\n",
    "        self.up_conv2 = nn.ConvTranspose2d(in_channels=512, out_channels=256, kernel_size=2, stride=2)\n",
    "        self.up_conv3 = nn.ConvTranspose2d(in_channels=256, out_channels=128, kernel_size=2, stride=2)\n",
    "        self.up_conv4 = nn.ConvTranspose2d(in_channels=128, out_channels=64, kernel_size=2, stride=2)\n",
    "        self.up1 = Section(in_channels=1024, out_channels=512, kernel_size=3)\n",
    "        self.up2 = Section(in_channels=512, out_channels=256, kernel_size=3)\n",
    "        self.up3 = Section(in_channels=256, out_channels=128, kernel_size=3)\n",
    "        self.up4 = Section(in_channels=128, out_channels=64, kernel_size=3)\n",
    "        self.output = self.final_conv = nn.Conv2d(64, out_channels, kernel_size=1)\n",
    "        \n",
    "    def forward(self, x):\n",
    "        skip_connections = []\n",
    "        # CONTRACTION\n",
    "        # down 1\n",
    "        x = self.down1(x)\n",
    "        skip_connections.append(x)\n",
    "        x = self.pool(x)\n",
    "        # down 2\n",
    "        x = self.down2(x)\n",
    "        skip_connections.append(x)\n",
    "        x = self.pool(x)\n",
    "        # down 3\n",
    "        x = self.down3(x)\n",
    "        skip_connections.append(x)\n",
    "        x = self.pool(x)\n",
    "        # down 4\n",
    "        x = self.down4(x)\n",
    "        skip_connections.append(x)\n",
    "        x = self.pool(x)\n",
    "        # down 5\n",
    "        x = self.down5(x)\n",
    "        \n",
    "        # EXPANSION\n",
    "        # up1\n",
    "        x = self.up_conv1(x)\n",
    "        y = skip_connections[3]\n",
    "        y = TF.resize(y, size=[56, 56])\n",
    "        y_new = torch.cat((y, x), dim=1)\n",
    "        x = self.up1(y_new)\n",
    "        \n",
    "        # up2\n",
    "        x = self.up_conv2(x)\n",
    "        y = skip_connections[2]\n",
    "        # resize skip commention\n",
    "        y = TF.resize(y, size=[104, 104])\n",
    "        y_new = torch.cat((y, x), dim=1)\n",
    "        x = self.up2(y_new)\n",
    "        # up3\n",
    "        x = self.up_conv3(x)\n",
    "        y = skip_connections[1]\n",
    "        y = TF.resize(y, size=[200, 200])\n",
    "        y_new = torch.cat((y, x), dim=1)\n",
    "        x = self.up3(y_new)\n",
    "        # up4 \n",
    "        x = self.up_conv4(x)\n",
    "        y = skip_connections[0]\n",
    "        y = TF.resize(y, size=[392, 392])\n",
    "        y_new = torch.cat((y, x), dim=1)\n",
    "        x = self.up4(y_new)\n",
    "        x = self.output(x)\n",
    "        return x\n",
    "        \n",
    "model = UNET()"
   ]
  },
  {
   "cell_type": "code",
   "execution_count": 4,
   "id": "a060ebba",
   "metadata": {},
   "outputs": [
    {
     "name": "stderr",
     "output_type": "stream",
     "text": [
      "/home/aryaman/miniconda3/envs/fastai/lib/python3.8/site-packages/torch/nn/functional.py:718: UserWarning: Named tensors and all their associated APIs are an experimental feature and subject to change. Please do not use them for anything important until they are released as stable. (Triggered internally at  /opt/conda/conda-bld/pytorch_1623448216815/work/c10/core/TensorImpl.h:1156.)\n",
      "  return torch.max_pool2d(input, kernel_size, stride, padding, dilation, ceil_mode)\n"
     ]
    },
    {
     "data": {
      "text/plain": [
       "torch.Size([1, 2, 388, 388])"
      ]
     },
     "execution_count": 4,
     "metadata": {},
     "output_type": "execute_result"
    }
   ],
   "source": [
    "# testing\n",
    "x = torch.randn((1,1,572, 572))\n",
    "pred = model(x)\n",
    "pred.shape"
   ]
  }
 ],
 "metadata": {
  "kernelspec": {
   "display_name": "Python 3",
   "language": "python",
   "name": "python3"
  },
  "language_info": {
   "codemirror_mode": {
    "name": "ipython",
    "version": 3
   },
   "file_extension": ".py",
   "mimetype": "text/x-python",
   "name": "python",
   "nbconvert_exporter": "python",
   "pygments_lexer": "ipython3",
   "version": "3.8.2"
  }
 },
 "nbformat": 4,
 "nbformat_minor": 5
}
